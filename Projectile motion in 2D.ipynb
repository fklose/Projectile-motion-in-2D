{
 "cells": [
  {
   "cell_type": "markdown",
   "metadata": {},
   "source": [
    "# Projectile motion in 2D\n",
    "\n",
    "### Background\n",
    "\n",
    "Consider a projectile of mass $m$ launchd at an angle $\\theta$ to the horizontal from level ground. It reaches the ground some distance $d$ away from the launch site. The equation of motion of the projectile with atmospheric drag (at low enough speeds that no turbulence is created) is: $$ m \\frac{d\\vec{v}}{dt} = m g \\hat{y} -c\\vec{v},$$\n",
    "where $\\vec{v}(t) = (v_x(t), v_y(t))$ is the projectile velocity at time $t$. The constant $c$ characterizes the atmosphereic friction. (As an aside, if the motion of the projectile is fast enough that turbulence is created, the friction term changes to $-bv^2$). We will integrate the equation of motion numerically in this project. However, in this case, an analytic solution is possible. If we call $\\vec{r}(t) = (x(t), y(t))$ the position of the projectile at time $t$, the equation of motion can be integrated to give:\n",
    "$$x(t) =\\frac{v_0v_T}{g}(1-e^{-gt/v_t}) \\cos\\theta $$\n",
    "$$y(t) = \\frac{v_T}{g} (v_T + v_0 \\sin\\theta)(1-e^{-gt/v_t}) - v_T t$$\n",
    "where $v_T = mg/c$ is the terminal velocity, and $v_0$ is the initial speed.\n",
    "\n",
    "### Objectives:\n",
    "\n",
    "* Implement a numerical solution of the equation of motion.\n",
    "* Compare numerical solution to analytic solution.\n",
    "* Automatically determine the following characteristics:\n",
    "    * What is the distance $d$ to impact?\n",
    "    * What is the maximum height, $h$, reached?\n",
    "    * What is the time of flight, $T$?\n",
    "    * What is the velocity, $v_I$ at the impact point?\n",
    "* Be able to change the initial conditions and still produce a nice plot."
   ]
  },
  {
   "cell_type": "markdown",
   "metadata": {},
   "source": [
    "## Implementation\n",
    "\n",
    "#### Description:\n",
    "This code uses the odeint function from scipy.integrate to numerically solve the ODE for projectile motion equation with atmospheric friction, given initial parameters.\n",
    "\n",
    "#### Returns:\n",
    "1. A 2-dimensional plot of the numerical and analytical solution of the ODE.\n",
    "2. Distance to impact of projectile (m).\n",
    "3. Maximum height reached by projectile (m).\n",
    "4. Time of flight (s).\n",
    "5. Magnitude of velocity at impact (m/s).\n",
    "6. Direction of velocity at impact (degrees from horizontal)."
   ]
  },
  {
   "cell_type": "code",
   "execution_count": 1,
   "metadata": {},
   "outputs": [],
   "source": [
    "import numpy as np\n",
    "import matplotlib.pyplot as plt\n",
    "from scipy import integrate"
   ]
  },
  {
   "cell_type": "markdown",
   "metadata": {},
   "source": [
    "Setting initial parameters\n",
    "* `c` :  Value that characterizes atmospheric friction (kg/s). $0 \\leq c < \\infty$\n",
    "* `g` :  Acceleration due to gravity around the projectile's location (m/s^2). $0 \\leq g < \\infty$\n",
    "* `m` :  Mass of projectile (kg). $0 \\leq m < \\infty$\n",
    "* `v0` :  Magnitude of the initial velocity (m/s). $0 \\leq v < \\infty$\n",
    "* `thetad` : Direction of initial velocity above horizontal axis (degrees). $0 \\leq \\theta_d < 360$\n"
   ]
  },
  {
   "cell_type": "code",
   "execution_count": 2,
   "metadata": {},
   "outputs": [],
   "source": [
    "c = 0.65\n",
    "g = 9.81\n",
    "m = 0.1\n",
    "v0 = 10\n",
    "thetad = 1"
   ]
  },
  {
   "cell_type": "markdown",
   "metadata": {},
   "source": [
    "Converting initial values into a usable form, most notably, converting the initial angle and speed into a velocity vector."
   ]
  },
  {
   "cell_type": "code",
   "execution_count": 3,
   "metadata": {},
   "outputs": [],
   "source": [
    "thetar = np.radians(thetad)\n",
    "v0x, v0y = (v0 * np.cos(thetar), v0 * np.sin(thetar))  # Initial velocities\n",
    "x0, y0 = (0, 0)  # Initial position of projectile\n",
    "init_vals = np.array([v0x, v0y, x0, y0])\n",
    "constants = (c, g, m)\n",
    "\n",
    "t0 = 0.0\n",
    "steps = 2000"
   ]
  },
  {
   "cell_type": "markdown",
   "metadata": {},
   "source": [
    "Defining a helper function to calculate the derivative of the velocity. This will be used to provide the input for the odeint() function.\n",
    "\n",
    "Parameters:\n",
    "* `init_vals` : list or numpy array containing initial conditions in form [v0x, v0y, x0, y0]\n",
    "* `time` : odeint expects the function to be integrated to have a time component, even when it is not used\n",
    "* `c`, `g`, `m` : constants used in calculations.  See script header for more information."
   ]
  },
  {
   "cell_type": "code",
   "execution_count": 4,
   "metadata": {},
   "outputs": [],
   "source": [
    "def dvdt(init_vals, time, c, g, m):\n",
    "    v0x, v0y = init_vals[0], init_vals[1]\n",
    "    dvxdt = -c * v0x / m\n",
    "    dvydt = -g - c * v0y / m\n",
    "    return np.array([dvxdt, dvydt, v0x, v0y])"
   ]
  },
  {
   "cell_type": "markdown",
   "metadata": {},
   "source": [
    "This next section caluclates a reasonable upper bound for the timeframe to integrate over by solving $y = y_0 + \\dot{y}_0 t + \\frac{1}{2} \\ddot{y} t^2$ for $y = 0$ and $\\ddot{y} = -g$ using the quadratic formula"
   ]
  },
  {
   "cell_type": "code",
   "execution_count": 5,
   "metadata": {},
   "outputs": [],
   "source": [
    "if g > 0:\n",
    "    root = np.sqrt(v0y**2 - 2*(-g)*np.abs(y0))\n",
    "    t1 = (-v0y + root) / (-g)\n",
    "    t2 = (-v0y - root) / (-g)\n",
    "    tmax = max([t1, t2])\n",
    "else:\n",
    "    tmax = np.log(c/m)  # Found by trial and error"
   ]
  },
  {
   "cell_type": "markdown",
   "metadata": {},
   "source": [
    "Setting up the timeframe to integrate over and performing the integration of the ODE. The last few lines are decomposing the numerical solution into their individual components."
   ]
  },
  {
   "cell_type": "code",
   "execution_count": 6,
   "metadata": {},
   "outputs": [],
   "source": [
    "timeframe = np.linspace(t0, tmax, steps + 1)\n",
    "\n",
    "num_sol = integrate.odeint(dvdt, init_vals, timeframe, args=constants)\n",
    "\n",
    "vx = num_sol[:, 0]\n",
    "vy = num_sol[:, 1]\n",
    "x = num_sol[:, 2]\n",
    "y = num_sol[:, 3]"
   ]
  },
  {
   "cell_type": "markdown",
   "metadata": {},
   "source": [
    "Setting up a function to compute the position of the particle using the analytical solution of the ODE. It is important to note that this function can also handle the edge cases where $g$ or $c$ are $0$, which is not true of the given analytic solution.\n",
    "\n",
    "#### Parameters:\n",
    "* `x0`, `y0` : Initial x and y coordinate of particle.\n",
    "* `v0`, `thetar` : Magnitude of initial velocity of particle and its direction in radians above horizontal.\n",
    "* `t` : Time.  Use a single value to compute the location of the particle at that time or use np.ndarray to return an array of x and y coordinates for the time values stored in the array.\n",
    "* `c`, `g`, `m` : Constants used in calculations.  See script header for more information."
   ]
  },
  {
   "cell_type": "code",
   "execution_count": 7,
   "metadata": {},
   "outputs": [],
   "source": [
    "def analytic_sol(x0, y0, v0, thetar, t, c, g, m):\n",
    "    if c != 0 and g != 0:\n",
    "        vT = m * g/c\n",
    "        xpos = x0 + v0*vT/g * (1-np.exp(-g*t/vT))*np.cos(thetar)\n",
    "        ypos = y0 + vT/g * (vT + v0*np.sin(thetar)) * \\\n",
    "            (1 - np.exp(-g*t/vT)) - vT*t\n",
    "    elif c == 0 and g != 0:\n",
    "        xpos = x0 + v0*np.cos(thetar)*t\n",
    "        ypos = y0 + v0*np.sin(thetar)*t - 0.5*g*t**2\n",
    "    elif c != 0 and g == 0:\n",
    "        xpos = x0 + v0*m/c * (1 - np.exp(-c*t/m)) * np.cos(thetar)\n",
    "        ypos = y0 + m/c * (v0*np.sin(thetar)) * (1 - np.exp(-c*t/m))\n",
    "    elif c == 0 and g == 0:\n",
    "        xpos = x0 + v0*np.cos(thetar)*t\n",
    "        ypos = y0 + v0*np.sin(thetar)*t\n",
    "    return np.array([xpos]), np.array([ypos])"
   ]
  },
  {
   "cell_type": "markdown",
   "metadata": {},
   "source": [
    "Computing the analytical solution."
   ]
  },
  {
   "cell_type": "code",
   "execution_count": 8,
   "metadata": {},
   "outputs": [],
   "source": [
    "ax, ay = analytic_sol(x0, y0, v0, thetar, timeframe, *constants)"
   ]
  },
  {
   "cell_type": "markdown",
   "metadata": {},
   "source": [
    "Defining some filters for the analytical and numerical solutions. Also computing the number of steps between samples of the numerical solution to display roughly 20 evenly spaced points of the numerical solution."
   ]
  },
  {
   "cell_type": "code",
   "execution_count": 9,
   "metadata": {},
   "outputs": [],
   "source": [
    "ayabove0 = (ay >= 0)\n",
    "nyabove0 = (y >= 0)\n",
    "\n",
    "stepsize = int(len(x[nyabove0])/20)  # Step size needed to display ~20 points"
   ]
  },
  {
   "cell_type": "markdown",
   "metadata": {},
   "source": [
    "Plotting the numerical and analytical solutions."
   ]
  },
  {
   "cell_type": "code",
   "execution_count": 10,
   "metadata": {},
   "outputs": [
    {
     "data": {
      "image/png": "[encoded data removed]",
      "text/plain": [
       "<Figure size 900x540 with 1 Axes>"
      ]
     },
     "metadata": {
      "needs_background": "light"
     },
     "output_type": "display_data"
    }
   ],
   "source": [
    "plt.figure(figsize=(12.5, 7.5))\n",
    "plt.title('Numerical and Analytical Solution for Projectile Motion ODE')\n",
    "plt.xlabel('Horizontal Distance')\n",
    "plt.ylabel('Vertical Distance')\n",
    "plt.plot(x[nyabove0][::stepsize], y[nyabove0][::stepsize],\n",
    "         'bo', label='Numerical Solution')\n",
    "plt.plot(ax[ayabove0], ay[ayabove0], 'g', label='Analytical Solution')\n",
    "plt.legend()\n",
    "plt.grid()\n",
    "plt.show()"
   ]
  },
  {
   "cell_type": "markdown",
   "metadata": {},
   "source": [
    "Extracting and computing the characteristics of the moton mentioned above."
   ]
  },
  {
   "cell_type": "code",
   "execution_count": 11,
   "metadata": {},
   "outputs": [
    {
     "name": "stdout",
     "output_type": "stream",
     "text": [
      "Distance to impact is: 0.307 m\n",
      "The maximum height reached is: 0.001 m\n",
      "The time of flight is: 0.034 s\n",
      "The velocity at impact is: 8.002 m/s -1.16 degrees from the horizontal\n"
     ]
    }
   ],
   "source": [
    "ytrimmed = y[nyabove0][1:]  # removes the first entry (y[1] is 0)\n",
    "yimpactindex = np.argmin(ytrimmed)\n",
    "yimpact = y[yimpactindex]\n",
    "ximpact = x[1:][yimpactindex]  # does not read first entry to avoid issues\n",
    "ximpactdist = np.abs(ximpact - x0)\n",
    "yimpactdist = np.abs(yimpact - y0)\n",
    "impactdist = np.sqrt(ximpactdist**2 + yimpactdist**2)\n",
    "print(f'Distance to impact is: {impactdist.round(decimals=3)} m')\n",
    "\n",
    "maxheight = np.abs(y0 - np.amax(y))\n",
    "print(f'The maximum height reached is: {maxheight.round(decimals=3)} m')\n",
    "\n",
    "Tof = timeframe[1:][yimpactindex]\n",
    "print(f'The time of flight is: {Tof.round(decimals=3)} s')\n",
    "\n",
    "vxI = vx[1:][yimpactindex]\n",
    "vyI = vy[1:][yimpactindex]\n",
    "vI = np.sqrt(vxI**2 + vyI**2)\n",
    "vIthetar = np.arctan(vyI / vxI)\n",
    "vIthetad = np.rad2deg(vIthetar)\n",
    "print(f'The velocity at impact is: {vI.round(decimals=3)} m/s \\\n",
    "{vIthetad.round(decimals=3)} degrees from the horizontal')"
   ]
  }
 ],
 "metadata": {
  "kernelspec": {
   "display_name": "Python 3",
   "language": "python",
   "name": "python3"
  },
  "language_info": {
   "codemirror_mode": {
    "name": "ipython",
    "version": 3
   },
   "file_extension": ".py",
   "mimetype": "text/x-python",
   "name": "python",
   "nbconvert_exporter": "python",
   "pygments_lexer": "ipython3",
   "version": "3.9.1"
  }
 },
 "nbformat": 4,
 "nbformat_minor": 4
}
